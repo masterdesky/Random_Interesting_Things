{
 "cells": [
  {
   "cell_type": "code",
   "execution_count": 6,
   "metadata": {},
   "outputs": [],
   "source": [
    "import os\n",
    "import gzip\n",
    "import urllib\n",
    "import numpy as np\n",
    "import pandas as pd\n",
    "\n",
    "from IPython.display import clear_output, display"
   ]
  },
  {
   "cell_type": "code",
   "execution_count": 7,
   "metadata": {},
   "outputs": [],
   "source": [
    "data_path = \"d:\\\\gaia_dr2\\\\\"\n",
    "#aggregated_path = \"c:\\\\Users\\\\finance\\\\Documents\\\\GitHub\\\\Random_Interesting_Things\\\\Physics\\\\Star Map\\\\data\\\\\"\n",
    "aggregated_path = \"d:\\\\gaia_dr2_csv\\\\\""
   ]
  },
  {
   "cell_type": "markdown",
   "metadata": {},
   "source": [
    "## Download namelist"
   ]
  },
  {
   "cell_type": "code",
   "execution_count": 8,
   "metadata": {},
   "outputs": [],
   "source": [
    "def get_path_list():\n",
    "\n",
    "    path_list = 'http://cdn.gea.esac.esa.int/Gaia/gdr2/gaia_source/csv/MD5SUM.txt'\n",
    "\n",
    "    with urllib.request.urlopen(path_list) as url:\n",
    "        md5sum = pd.read_csv(url, sep=' ', header=None).iloc[2:][2].values\n",
    "        \n",
    "    return md5sum"
   ]
  },
  {
   "cell_type": "code",
   "execution_count": 9,
   "metadata": {},
   "outputs": [],
   "source": [
    "def download_files(md5sum, n_min=0, n_max=100):\n",
    "    \"\"\"\n",
    "    Parameters\n",
    "    ----------\n",
    "        - md5sum : array of str\n",
    "          Array, containing Gaia DR2 datafile names\n",
    "        - n : int\n",
    "          First n number of files got to be downloaded\n",
    "    \"\"\"\n",
    "    url_template = 'http://cdn.gea.esac.esa.int/Gaia/gdr2/gaia_source/csv/{}'\n",
    "\n",
    "    for data_set in md5sum[n_min:n_max]:\n",
    "        \n",
    "        if os.path.exists(data_path + data_set):\n",
    "            continue\n",
    "        \n",
    "        else:\n",
    "            response = urllib.request.urlopen(url_template.format(data_set))\n",
    "            html = response.read()\n",
    "            \n",
    "            print('Current :', data_set)\n",
    "            clear_output(wait=True)\n",
    "            \n",
    "            with open(data_path + data_set, 'wb') as f:\n",
    "                f.write(html)"
   ]
  },
  {
   "cell_type": "code",
   "execution_count": 10,
   "metadata": {},
   "outputs": [],
   "source": [
    "def aggregate(gaia_source, n_min=24000, n_max=24100, mode='coords'):\n",
    "    \"\"\"\n",
    "    Parameters\n",
    "    ----------\n",
    "        - gaia_source : array of str\n",
    "          Array, containing already downloaded Gaia DR2 datafile names\n",
    "        - n : int\n",
    "          First n number of files got to be aggregated\n",
    "    \"\"\"\n",
    "    \n",
    "    if 'c' in mode.lower():\n",
    "        annote = 'coords'\n",
    "        columns = ['l', 'b']\n",
    "\n",
    "    elif 'h' in mode.lower():\n",
    "        annote = 'hrd'\n",
    "        columns = ['parallax', 'phot_g_mean_mag', 'bp_rp', 'bp_g']\n",
    "\n",
    "    file_name = 'd:\\\\gaia_dr2_{2}\\\\dr2_data_{2}_{0}-{1}.csv'.format(n_min, n_max, annote)\n",
    "    if os.path.exists(file_name):\n",
    "        return 0\n",
    "    \n",
    "    else:\n",
    "        li = []\n",
    "        for data_set in gaia_source[n_min-24000:n_max-24000]:\n",
    "            with gzip.open(data_path + data_set, 'r') as f:\n",
    "                df = pd.read_csv(f, index_col=None, header=0)[columns]\n",
    "                li.append(df)\n",
    "\n",
    "        # Save relevant data into '.csv'\n",
    "        pd.concat(li, axis=0, ignore_index=True).to_csv(file_name, index=False, mode='w+')"
   ]
  },
  {
   "cell_type": "code",
   "execution_count": 11,
   "metadata": {},
   "outputs": [],
   "source": [
    "def aggregate_coords(l_min, l_max):\n",
    "\n",
    "    li = []\n",
    "    for data_set in os.listdir(aggregated_path):\n",
    "        with open(aggregated_path + data_set, 'r') as f:\n",
    "            df = pd.read_csv(aggregated_path + data_set, index_col=None, header=0)\n",
    "            print(data_set)\n",
    "            li.append(df[(df.l > l_min) & (df.l < l_max) & (df.b > -45) & (df.b < 45)])\n",
    "\n",
    "    return pd.concat(li, axis=0, ignore_index=True)"
   ]
  },
  {
   "cell_type": "code",
   "execution_count": 12,
   "metadata": {},
   "outputs": [],
   "source": [
    "md5sum = get_path_list()"
   ]
  },
  {
   "cell_type": "code",
   "execution_count": 20,
   "metadata": {},
   "outputs": [
    {
     "name": "stdout",
     "output_type": "stream",
     "text": [
      "Current : GaiaSource_5347467002028376192_5347525108659028864.csv.gz\n"
     ]
    }
   ],
   "source": [
    "download_files(md5sum, n_min=40000, n_max=42000)"
   ]
  },
  {
   "cell_type": "code",
   "execution_count": null,
   "metadata": {},
   "outputs": [],
   "source": [
    "download_files(md5sum, n_min=42000, n_max=44000)"
   ]
  },
  {
   "cell_type": "code",
   "execution_count": null,
   "metadata": {},
   "outputs": [],
   "source": [
    "download_files(md5sum, n_min=44000, n_max=46000)"
   ]
  },
  {
   "cell_type": "code",
   "execution_count": null,
   "metadata": {},
   "outputs": [],
   "source": [
    "download_files(md5sum, n_min=46000, n_max=48000)"
   ]
  },
  {
   "cell_type": "code",
   "execution_count": 13,
   "metadata": {},
   "outputs": [],
   "source": [
    "gaia_source = os.listdir(data_path)"
   ]
  },
  {
   "cell_type": "code",
   "execution_count": 14,
   "metadata": {},
   "outputs": [],
   "source": [
    "sizes = np.zeros(len(gaia_source))\n",
    "for i, f in enumerate(gaia_source):\n",
    "    sizes[i] = (os.stat(data_path + f).st_size) / (1024 * 1024)"
   ]
  },
  {
   "cell_type": "code",
   "execution_count": 15,
   "metadata": {
    "scrolled": true
   },
   "outputs": [
    {
     "data": {
      "text/plain": [
       "10.365297745333777"
      ]
     },
     "execution_count": 15,
     "metadata": {},
     "output_type": "execute_result"
    }
   ],
   "source": [
    "sizes.mean()"
   ]
  },
  {
   "cell_type": "code",
   "execution_count": 16,
   "metadata": {},
   "outputs": [
    {
     "data": {
      "text/plain": [
       "18000"
      ]
     },
     "execution_count": 16,
     "metadata": {},
     "output_type": "execute_result"
    }
   ],
   "source": [
    "len(gaia_source)"
   ]
  },
  {
   "cell_type": "code",
   "execution_count": 18,
   "metadata": {},
   "outputs": [],
   "source": [
    "for i in range(34,36):\n",
    "    aggregate(gaia_source, n_min=i*1000, n_max=(i+1)*1000, mode='c')\n",
    "    aggregate(gaia_source, n_min=i*1000, n_max=(i+1)*1000, mode='h')"
   ]
  },
  {
   "cell_type": "code",
   "execution_count": null,
   "metadata": {},
   "outputs": [],
   "source": []
  }
 ],
 "metadata": {
  "kernelspec": {
   "display_name": "Python 3",
   "language": "python",
   "name": "python3"
  },
  "language_info": {
   "codemirror_mode": {
    "name": "ipython",
    "version": 3
   },
   "file_extension": ".py",
   "mimetype": "text/x-python",
   "name": "python",
   "nbconvert_exporter": "python",
   "pygments_lexer": "ipython3",
   "version": "3.8.1"
  }
 },
 "nbformat": 4,
 "nbformat_minor": 4
}
